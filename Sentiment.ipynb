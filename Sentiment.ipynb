{
 "metadata": {
  "language_info": {
   "codemirror_mode": {
    "name": "ipython",
    "version": 3
   },
   "file_extension": ".py",
   "mimetype": "text/x-python",
   "name": "python",
   "nbconvert_exporter": "python",
   "pygments_lexer": "ipython3",
   "version": "3.9.6"
  },
  "orig_nbformat": 4,
  "kernelspec": {
   "name": "python3",
   "display_name": "Python 3.9.6 64-bit"
  },
  "interpreter": {
   "hash": "2a44b54fb7faa7f59f2aefd936b06410a80bdb7e6947a86035cee082b3ea373f"
  }
 },
 "nbformat": 4,
 "nbformat_minor": 2,
 "cells": [
  {
   "cell_type": "code",
   "execution_count": 69,
   "source": [
    "#! usr/bin/env python3\r\n",
    "import praw\r\n",
    "import pandas as pd\r\n",
    "import seaborn as sns\r\n",
    "from pprint import pprint\r\n",
    "from IPython import display\r\n",
    "import matplotlib.pyplot as plt\r\n",
    "from nltk.corpus import stopwords\r\n",
    "from nltk.tokenize import RegexpTokenizer\r\n",
    "from nltk.sentiment.vader import SentimentIntensityAnalyzer as SIA\r\n",
    "\r\n",
    "# The following will create a Reddit instance using a praw API module\r\n",
    "# different ways to organize: .hot, .new, .controversial, .top, and .gilded)\r\n",
    "\r\n",
    "reddit = praw.Reddit(client_id='A0HZsCKBk-P50g', client_secret='9vAJO7D2uhGh-I7wpVNDI2JEwm0', user_agent='msds', username = 'baymsds',password = '2003@@PUujin')\r\n",
    "posts = set()\r\n",
    "for submission in reddit.subreddit('dogecoin').new(limit=1000):\r\n",
    "    posts.add(submission.selftext)\r\n",
    "    display.clear_output()"
   ],
   "outputs": [],
   "metadata": {}
  },
  {
   "cell_type": "code",
   "execution_count": 70,
   "source": [
    "# The following code shows Vader's polairty score.\r\n",
    "\r\n",
    "sia = SIA()\r\n",
    "results = []\r\n",
    "for line in posts:\r\n",
    "    pol_score = sia.polarity_scores(line)\r\n",
    "    pol_score['post'] = line\r\n",
    "    results.append(pol_score)\r\n",
    "pprint(results[:3], width=100)"
   ],
   "outputs": [
    {
     "output_type": "stream",
     "name": "stdout",
     "text": [
      "[{'compound': 0.0, 'neg': 0.0, 'neu': 0.0, 'pos': 0.0, 'post': ''},\n",
      " {'compound': 0.3485,\n",
      "  'neg': 0.077,\n",
      "  'neu': 0.804,\n",
      "  'pos': 0.119,\n",
      "  'post': 'If the rich control this and repeat 3 to 10 cent pump and dumps, then how can this '\n",
      "          'possibly get to $1 when they just need to repeat this process forever???'},\n",
      " {'compound': 0.802,\n",
      "  'neg': 0.0,\n",
      "  'neu': 0.791,\n",
      "  'pos': 0.209,\n",
      "  'post': 'Everyone (ok alot ) have hopes dogecoin with big moon and make lots of money. What '\n",
      "          'would you do with yours ? Id love to hear it. \\n'\n",
      "          '\\n'\n",
      "          '\\n'\n",
      "          'I would buy a freeze dry machine and start a small business.'}]\n"
     ]
    }
   ],
   "metadata": {}
  },
  {
   "cell_type": "code",
   "execution_count": 46,
   "source": [
    "# I saved the chunks of posts in csv format, then combined them manually.\r\n",
    "\r\n",
    "df = pd.DataFrame.from_records(results)\r\n",
    "df.head()\r\n",
    "df.to_csv('dump.csv', mode='a', encoding='utf-8', index=False)"
   ],
   "outputs": [],
   "metadata": {}
  },
  {
   "cell_type": "code",
   "execution_count": 71,
   "source": [
    "df = pd.read_csv('dump.csv')\r\n",
    "df['label'] = 0\r\n",
    "df.loc[df['compound'] > 0.2, 'label'] = 1\r\n",
    "df.loc[df['compound'] < -0.2, 'label'] = -1\r\n",
    "df.head()"
   ],
   "outputs": [
    {
     "output_type": "execute_result",
     "data": {
      "text/html": [
       "<div>\n",
       "<style scoped>\n",
       "    .dataframe tbody tr th:only-of-type {\n",
       "        vertical-align: middle;\n",
       "    }\n",
       "\n",
       "    .dataframe tbody tr th {\n",
       "        vertical-align: top;\n",
       "    }\n",
       "\n",
       "    .dataframe thead th {\n",
       "        text-align: right;\n",
       "    }\n",
       "</style>\n",
       "<table border=\"1\" class=\"dataframe\">\n",
       "  <thead>\n",
       "    <tr style=\"text-align: right;\">\n",
       "      <th></th>\n",
       "      <th>neg</th>\n",
       "      <th>neu</th>\n",
       "      <th>pos</th>\n",
       "      <th>compound</th>\n",
       "      <th>post</th>\n",
       "      <th>label</th>\n",
       "    </tr>\n",
       "  </thead>\n",
       "  <tbody>\n",
       "    <tr>\n",
       "      <th>0</th>\n",
       "      <td>0.000</td>\n",
       "      <td>0.917</td>\n",
       "      <td>0.083</td>\n",
       "      <td>0.4215</td>\n",
       "      <td>Is it possible that by the end of the year any...</td>\n",
       "      <td>1</td>\n",
       "    </tr>\n",
       "    <tr>\n",
       "      <th>1</th>\n",
       "      <td>0.037</td>\n",
       "      <td>0.850</td>\n",
       "      <td>0.113</td>\n",
       "      <td>0.6172</td>\n",
       "      <td>It is not fair that all the profit is destined...</td>\n",
       "      <td>1</td>\n",
       "    </tr>\n",
       "    <tr>\n",
       "      <th>2</th>\n",
       "      <td>0.048</td>\n",
       "      <td>0.710</td>\n",
       "      <td>0.243</td>\n",
       "      <td>0.9899</td>\n",
       "      <td>I know I’m old, but I use PayPal for everythin...</td>\n",
       "      <td>1</td>\n",
       "    </tr>\n",
       "    <tr>\n",
       "      <th>3</th>\n",
       "      <td>0.046</td>\n",
       "      <td>0.767</td>\n",
       "      <td>0.186</td>\n",
       "      <td>0.9914</td>\n",
       "      <td>One of the challenges with real world transact...</td>\n",
       "      <td>1</td>\n",
       "    </tr>\n",
       "    <tr>\n",
       "      <th>4</th>\n",
       "      <td>0.000</td>\n",
       "      <td>0.851</td>\n",
       "      <td>0.149</td>\n",
       "      <td>0.8625</td>\n",
       "      <td>Here is an article from Joule (an energy resea...</td>\n",
       "      <td>1</td>\n",
       "    </tr>\n",
       "  </tbody>\n",
       "</table>\n",
       "</div>"
      ],
      "text/plain": [
       "     neg    neu    pos  compound  \\\n",
       "0  0.000  0.917  0.083    0.4215   \n",
       "1  0.037  0.850  0.113    0.6172   \n",
       "2  0.048  0.710  0.243    0.9899   \n",
       "3  0.046  0.767  0.186    0.9914   \n",
       "4  0.000  0.851  0.149    0.8625   \n",
       "\n",
       "                                                post  label  \n",
       "0  Is it possible that by the end of the year any...      1  \n",
       "1  It is not fair that all the profit is destined...      1  \n",
       "2  I know I’m old, but I use PayPal for everythin...      1  \n",
       "3  One of the challenges with real world transact...      1  \n",
       "4  Here is an article from Joule (an energy resea...      1  "
      ]
     },
     "metadata": {},
     "execution_count": 71
    }
   ],
   "metadata": {}
  },
  {
   "cell_type": "code",
   "execution_count": 72,
   "source": [
    "# The following code cleans the data little bit then applies tokens. \r\n",
    "\r\n",
    "nltk.download('stopwords')\r\n",
    "tokenizer = RegexpTokenizer(r'\\w+')\r\n",
    "stop_words = stopwords.words('english')\r\n",
    "def process_text(posts):\r\n",
    "    tokens = []\r\n",
    "    for line in posts:\r\n",
    "        toks = tokenizer.tokenize(line)\r\n",
    "        toks = [t.lower() for t in toks if t.lower() not in stop_words]\r\n",
    "        tokens.extend(toks) \r\n",
    "    return tokens\r\n",
    "pos_lines = list(df[df.label == 1].post)\r\n",
    "pos_tokens = process_text(pos_lines)\r\n",
    "pos_freq = nltk.FreqDist(pos_tokens)\r\n",
    "pos_freq.most_common(20)"
   ],
   "outputs": [
    {
     "output_type": "stream",
     "name": "stderr",
     "text": [
      "[nltk_data] Downloading package stopwords to\n",
      "[nltk_data]     C:\\Users\\Enkhbayar\\AppData\\Roaming\\nltk_data...\n",
      "[nltk_data]   Package stopwords is already up-to-date!\n"
     ]
    },
    {
     "output_type": "execute_result",
     "data": {
      "text/plain": [
       "[('dogecoin', 2484),\n",
       " ('doge', 1853),\n",
       " ('https', 1198),\n",
       " ('would', 1108),\n",
       " ('com', 1013),\n",
       " ('1', 860),\n",
       " ('like', 775),\n",
       " ('wallet', 672),\n",
       " ('help', 631),\n",
       " ('could', 583),\n",
       " ('get', 528),\n",
       " ('core', 504),\n",
       " ('time', 488),\n",
       " ('use', 485),\n",
       " ('one', 452),\n",
       " ('make', 450),\n",
       " ('people', 431),\n",
       " ('need', 424),\n",
       " ('also', 413),\n",
       " ('github', 409)]"
      ]
     },
     "metadata": {},
     "execution_count": 72
    }
   ],
   "metadata": {}
  },
  {
   "cell_type": "code",
   "execution_count": 73,
   "source": [
    "# Printed results to do a quick visualizationn.\r\n",
    "\r\n",
    "print(df.label.value_counts())\r\n",
    "print(df.label.value_counts(normalize=True) * 100)"
   ],
   "outputs": [
    {
     "output_type": "stream",
     "name": "stdout",
     "text": [
      " 1    1679\n",
      " 0     506\n",
      "-1     222\n",
      "Name: label, dtype: int64\n",
      " 1    69.754882\n",
      " 0    21.022019\n",
      "-1     9.223099\n",
      "Name: label, dtype: float64\n"
     ]
    }
   ],
   "metadata": {}
  },
  {
   "cell_type": "code",
   "execution_count": 74,
   "source": [
    "# Plotted the data on a graph to provide a better visualization.\r\n",
    "\r\n",
    "fig, ax = plt.subplots(figsize=(8, 8))\r\n",
    "counts = df.label.value_counts(normalize=True) * 100\r\n",
    "sns.barplot(x=counts.index, y=counts, ax=ax)\r\n",
    "ax.set_xticklabels(['Negative', 'Neutral', 'Positive'])\r\n",
    "ax.set_ylabel(\"Percentage\")\r\n",
    "plt.show()"
   ],
   "outputs": [
    {
     "output_type": "display_data",
     "data": {
      "image/png": "[encoded data removed]",
      "text/plain": [
       "<Figure size 576x576 with 1 Axes>"
      ]
     },
     "metadata": {}
    }
   ],
   "metadata": {}
  }
 ]
}